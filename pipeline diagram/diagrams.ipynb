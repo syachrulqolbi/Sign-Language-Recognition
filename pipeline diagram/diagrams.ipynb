{
 "cells": [
  {
   "cell_type": "code",
   "execution_count": 56,
   "metadata": {},
   "outputs": [],
   "source": [
    "from diagrams import Cluster, Diagram, Edge\n",
    "from diagrams.custom import Custom\n",
    "from diagrams.onprem.client import User as EndUser\n",
    "from diagrams.generic.storage import Storage\n",
    "\n",
    "with Diagram(name=\"Real Time Sign Language Recognition Pipeline\", show=True, direction=\"LR\", graph_attr={\"fontsize\": \"24\", \"fontname\": \"Helvetica-Bold\"}):\n",
    "    \n",
    "    # User interaction cluster\n",
    "    with Cluster(\"User Interaction\"):\n",
    "        user = EndUser(\"User\")\n",
    "\n",
    "        with Cluster(\"Web Interface\"):\n",
    "            web_interface = Custom(\"HTML, CSS, JS\", \"web_interface.png\")\n",
    "            mediapipe = Custom(\"MediaPipe\", \"mediapipe.png\")\n",
    "            database = Storage(\"ASL Video Database\")\n",
    "\n",
    "    # Backend system (Dockerized)\n",
    "    with Cluster(\"Backend (Dockerized)\"):\n",
    "        docker = Custom(\"Docker\", \"docker.png\")\n",
    "        python = Custom(\"Python\", \"python.png\")\n",
    "        render = Custom(\"Render\", \"render.png\")\n",
    "        docker >> Edge(color=\"transparent\") >> python >> Edge(color=\"transparent\") >> render\n",
    "\n",
    "        # REST API cluster\n",
    "        with Cluster(\"REST API and Model Prediction\"):\n",
    "            rest_api = Custom(\"FastAPI\", \"fastapi.png\")\n",
    "            model = Custom(\"Transformer Model\", \"tensorflow.png\")\n",
    "\n",
    "        # Sentence generator cluster\n",
    "        with Cluster(\"Sentence Generator\"):\n",
    "            gemini = Custom(\"Gemini LLM\", \"gemini.png\")\n",
    "\n",
    "    # Pipeline flow\n",
    "    user >> Edge(color=\"black\", label=\"Record Video\", fontname=\"Helvetica-Bold\") >> web_interface \\\n",
    "        >> Edge(color=\"black\", label=\"Display Landmarks\", fontname=\"Helvetica-Bold\") >> mediapipe \\\n",
    "        >> Edge(color=\"black\", label=\"Extract Landmarks\", fontname=\"Helvetica-Bold\") >> web_interface\n",
    "    \n",
    "    web_interface >> Edge(color=\"black\", label=\"Play ASL Sign Video\", fontname=\"Helvetica-Bold\") >> database\n",
    "    \n",
    "    web_interface >> Edge(color=\"black\", label=\"Send Landmarks\", fontname=\"Helvetica-Bold\") >> rest_api\n",
    "\n",
    "    rest_api >> Edge(color=\"black\", label=\"Predict ASL Word\", fontname=\"Helvetica-Bold\") >> model \\\n",
    "        >> Edge(color=\"black\", label=\"Generate Sentence\", fontname=\"Helvetica-Bold\") >> gemini\n"
   ]
  },
  {
   "cell_type": "code",
   "execution_count": null,
   "metadata": {},
   "outputs": [],
   "source": []
  }
 ],
 "metadata": {
  "kernelspec": {
   "display_name": "Python 3",
   "language": "python",
   "name": "python3"
  },
  "language_info": {
   "codemirror_mode": {
    "name": "ipython",
    "version": 3
   },
   "file_extension": ".py",
   "mimetype": "text/x-python",
   "name": "python",
   "nbconvert_exporter": "python",
   "pygments_lexer": "ipython3",
   "version": "3.11.0"
  }
 },
 "nbformat": 4,
 "nbformat_minor": 2
}
