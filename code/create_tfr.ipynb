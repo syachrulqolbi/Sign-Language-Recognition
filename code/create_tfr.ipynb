{
 "cells": [
  {
   "cell_type": "markdown",
   "metadata": {},
   "source": [
    "# Importing Dependencies"
   ]
  },
  {
   "cell_type": "code",
   "execution_count": 33,
   "metadata": {
    "execution": {
     "iopub.execute_input": "2025-01-15T09:47:46.363393Z",
     "iopub.status.busy": "2025-01-15T09:47:46.360685Z",
     "iopub.status.idle": "2025-01-15T09:47:46.377397Z",
     "shell.execute_reply": "2025-01-15T09:47:46.373343Z",
     "shell.execute_reply.started": "2025-01-15T09:47:46.363339Z"
    },
    "trusted": true
   },
   "outputs": [],
   "source": [
    "import pandas as pd\n",
    "import numpy as np\n",
    "import json\n",
    "from tqdm import tqdm\n",
    "from joblib import Parallel, delayed\n",
    "from multiprocessing import cpu_count\n",
    "from sklearn.model_selection import KFold\n",
    "import tensorflow as tf"
   ]
  },
  {
   "cell_type": "markdown",
   "metadata": {},
   "source": [
    "# Hyperparameters"
   ]
  },
  {
   "cell_type": "code",
   "execution_count": 34,
   "metadata": {
    "execution": {
     "iopub.execute_input": "2025-01-15T09:47:46.386208Z",
     "iopub.status.busy": "2025-01-15T09:47:46.384236Z",
     "iopub.status.idle": "2025-01-15T09:47:46.404494Z",
     "shell.execute_reply": "2025-01-15T09:47:46.400607Z",
     "shell.execute_reply.started": "2025-01-15T09:47:46.386039Z"
    },
    "trusted": true
   },
   "outputs": [],
   "source": [
    "class CFG:\n",
    "    seed = 42  # Random seed for reproducibility\n",
    "    n_splits = 4  # Number of folds for K-Fold cross-validation\n",
    "\n",
    "    # URLs for dataset\n",
    "    label_dict_url = '/kaggle/input/asl-signs/sign_to_prediction_index_map.json'\n",
    "    train_csv_url = '/kaggle/input/asl-signs/train.csv'\n",
    "    parquet_base_url = '/kaggle/input/asl-signs/'\n",
    "    output_base_url = '/tmp/'  # Base URL for output TFRecord files\n",
    "\n",
    "N_FILES = None  # Will be initialized after loading the dataset\n",
    "ROWS_PER_FRAME = 543\n",
    "CHUNK_SIZE = 512  # Number of rows per chunk for parallel processing\n",
    "N_PART = 1  # Number of partitions for chunk processing\n",
    "FOLD = 4  # Total number of folds\n",
    "part = 0  # Current partition index"
   ]
  },
  {
   "cell_type": "markdown",
   "metadata": {},
   "source": [
    "# Loading Dataset"
   ]
  },
  {
   "cell_type": "code",
   "execution_count": 35,
   "metadata": {
    "execution": {
     "iopub.execute_input": "2025-01-15T09:47:46.412045Z",
     "iopub.status.busy": "2025-01-15T09:47:46.409232Z",
     "iopub.status.idle": "2025-01-15T09:47:46.799699Z",
     "shell.execute_reply": "2025-01-15T09:47:46.796614Z",
     "shell.execute_reply.started": "2025-01-15T09:47:46.411930Z"
    },
    "trusted": true
   },
   "outputs": [],
   "source": [
    "# Load label dictionary\n",
    "with open(CFG.label_dict_url) as json_file:\n",
    "    LABEL_DICT = json.load(json_file)\n",
    "\n",
    "# Load training data\n",
    "train_df = pd.read_csv(CFG.train_csv_url)\n",
    "N_FILES = len(train_df)  # Total number of training files"
   ]
  },
  {
   "cell_type": "markdown",
   "metadata": {},
   "source": [
    "# Dataset Preprocessing"
   ]
  },
  {
   "cell_type": "code",
   "execution_count": 36,
   "metadata": {
    "execution": {
     "iopub.execute_input": "2025-01-15T09:47:46.806404Z",
     "iopub.status.busy": "2025-01-15T09:47:46.805188Z",
     "iopub.status.idle": "2025-01-15T09:47:46.846373Z",
     "shell.execute_reply": "2025-01-15T09:47:46.843271Z",
     "shell.execute_reply.started": "2025-01-15T09:47:46.806262Z"
    },
    "trusted": true
   },
   "outputs": [],
   "source": [
    "# Function to load and reshape data from parquet files\n",
    "def load_relevant_data_subset(pq_path):\n",
    "    data_columns = ['x', 'y', 'z']\n",
    "    data = pd.read_parquet(pq_path, columns=data_columns)\n",
    "    n_frames = int(len(data) / ROWS_PER_FRAME)\n",
    "    data = data.values.reshape(n_frames, ROWS_PER_FRAME, len(data_columns))\n",
    "    return data.astype(np.float32)\n",
    "\n",
    "# Function to encode a single row into TFRecord format\n",
    "def encode_row(row):\n",
    "    coordinates = load_relevant_data_subset(f\"{CFG.parquet_base_url}{row.path}\")\n",
    "    coordinates_encoded = coordinates.tobytes()\n",
    "    participant_id = int(row.participant_id)\n",
    "    sequence_id = int(row.sequence_id)\n",
    "    sign = int(LABEL_DICT[row.sign])\n",
    "\n",
    "    record_bytes = tf.train.Example(features=tf.train.Features(feature={\n",
    "        'coordinates': tf.train.Feature(bytes_list=tf.train.BytesList(value=[coordinates_encoded])),\n",
    "        'participant_id': tf.train.Feature(int64_list=tf.train.Int64List(value=[participant_id])),\n",
    "        'sequence_id': tf.train.Feature(int64_list=tf.train.Int64List(value=[sequence_id])),\n",
    "        'sign': tf.train.Feature(int64_list=tf.train.Int64List(value=[sign]))\n",
    "    })).SerializeToString()\n",
    "    return record_bytes\n",
    "\n",
    "# Function to process a chunk of data and save it as TFRecord files\n",
    "def process_chunk(chunk, tfrecord_name):\n",
    "    options = tf.io.TFRecordOptions(compression_type='GZIP', compression_level=9)\n",
    "    with tf.io.TFRecordWriter(tfrecord_name, options=options) as file_writer:\n",
    "        for i, row in tqdm(chunk.iterrows(), total=len(chunk), desc=f\"Processing {tfrecord_name}\"):\n",
    "            record_bytes = encode_row(row)\n",
    "            file_writer.write(record_bytes)\n",
    "\n",
    "# Function to split a dataframe into chunks of specified size\n",
    "def split_dataframe(df, chunk_size=10000): \n",
    "    return [df[i * chunk_size:(i + 1) * chunk_size] for i in range((len(df) + chunk_size - 1) // chunk_size)]"
   ]
  },
  {
   "cell_type": "markdown",
   "metadata": {},
   "source": [
    "## K-Fold Cross-Validation"
   ]
  },
  {
   "cell_type": "code",
   "execution_count": 37,
   "metadata": {
    "execution": {
     "iopub.execute_input": "2025-01-15T09:47:46.850554Z",
     "iopub.status.busy": "2025-01-15T09:47:46.849878Z",
     "iopub.status.idle": "2025-01-15T10:04:17.432985Z",
     "shell.execute_reply": "2025-01-15T10:04:17.431474Z",
     "shell.execute_reply.started": "2025-01-15T09:47:46.850449Z"
    },
    "trusted": true
   },
   "outputs": [
    {
     "name": "stdout",
     "output_type": "stream",
     "text": [
      "4-fold training with 94477 samples\n",
      "Fold 0: Train 70857, Validation 23620\n",
      "Fold 1: Train 70858, Validation 23619\n",
      "Fold 2: Train 70858, Validation 23619\n",
      "Fold 3: Train 70858, Validation 23619\n"
     ]
    },
    {
     "name": "stderr",
     "output_type": "stream",
     "text": [
      "Processing /tmp/fold0-0-512.tfrecords: 100%|██████████| 512/512 [00:17<00:00, 29.78it/s]\n",
      "Processing /tmp/fold0-4-512.tfrecords:   1%|          | 4/512 [00:00<00:13, 38.88it/s]\n",
      "Processing /tmp/fold0-5-512.tfrecords:   1%|▏         | 7/512 [00:00<00:07, 65.10it/s]\n",
      "Processing /tmp/fold0-6-512.tfrecords:   0%|          | 0/512 [00:00<?, ?it/s]\n",
      "Processing /tmp/fold0-4-512.tfrecords: 100%|██████████| 512/512 [00:16<00:00, 31.16it/s]\n",
      "Processing /tmp/fold0-8-512.tfrecords:   3%|▎         | 15/512 [00:00<00:12, 41.11it/s]\n",
      "Processing /tmp/fold0-8-512.tfrecords:   4%|▍         | 20/512 [00:00<00:14, 34.53it/s]\n",
      "Processing /tmp/fold0-10-512.tfrecords:   0%|          | 0/512 [00:00<?, ?it/s]\n",
      "Processing /tmp/fold0-11-512.tfrecords:  97%|█████████▋| 496/512 [00:15<00:00, 36.69it/s]\n",
      "Processing /tmp/fold0-12-512.tfrecords:   0%|          | 0/512 [00:00<?, ?it/s]\n",
      "Processing /tmp/fold0-10-512.tfrecords:  97%|█████████▋| 495/512 [00:16<00:00, 26.50it/s]\n",
      "Processing /tmp/fold0-12-512.tfrecords:  12%|█▏        | 59/512 [00:01<00:10, 42.02it/s]]\n",
      "Processing /tmp/fold0-15-512.tfrecords:  96%|█████████▌| 489/512 [00:14<00:00, 37.58it/s]\n",
      "Processing /tmp/fold0-15-512.tfrecords:  96%|█████████▋| 494/512 [00:14<00:00, 35.13it/s]\n",
      "Processing /tmp/fold0-15-512.tfrecords:  98%|█████████▊| 500/512 [00:14<00:00, 36.88it/s]\n",
      "Processing /tmp/fold0-18-512.tfrecords:   4%|▍         | 20/512 [00:00<00:12, 38.13it/s]]\n",
      "Processing /tmp/fold0-17-512.tfrecords:  94%|█████████▍| 480/512 [00:14<00:01, 28.74it/s]\n",
      "Processing /tmp/fold0-20-512.tfrecords:   0%|          | 0/512 [00:00<?, ?it/s]\n",
      "Processing /tmp/fold0-21-512.tfrecords:   7%|▋         | 35/512 [00:01<00:17, 27.44it/s]]\n",
      "Processing /tmp/fold0-20-512.tfrecords:   9%|▉         | 48/512 [00:01<00:12, 37.77it/s]]\n",
      "Processing /tmp/fold0-22-512.tfrecords:  89%|████████▉ | 455/512 [00:14<00:01, 39.37it/s]\n",
      "Processing /tmp/fold0-23-512.tfrecords:  95%|█████████▍| 485/512 [00:15<00:00, 33.61it/s]\n",
      "Processing /tmp/fold0-24-512.tfrecords:  11%|█▏        | 58/512 [00:01<00:12, 35.42it/s]]\n",
      "Processing /tmp/fold0-26-512.tfrecords:   2%|▏         | 12/512 [00:00<00:25, 19.61it/s]]\n",
      "Processing /tmp/fold0-27-512.tfrecords:  85%|████████▍ | 433/512 [00:14<00:03, 25.42it/s]\n",
      "Processing /tmp/fold0-27-512.tfrecords:  87%|████████▋ | 446/512 [00:14<00:03, 20.50it/s]\n",
      "Processing /tmp/fold0-27-512.tfrecords:  98%|█████████▊| 502/512 [00:17<00:00, 21.59it/s]\n",
      "Processing /tmp/fold0-29-512.tfrecords:  16%|█▌        | 82/512 [00:02<00:17, 25.29it/s]]\n",
      "Processing /tmp/fold0-31-512.tfrecords:  81%|████████▏ | 416/512 [00:17<00:04, 21.61it/s]\n",
      "Processing /tmp/fold0-32-512.tfrecords:   0%|          | 0/512 [00:00<?, ?it/s]\n",
      "Processing /tmp/fold0-31-512.tfrecords:  94%|█████████▍| 481/512 [00:19<00:01, 24.00it/s]\n",
      "Processing /tmp/fold0-31-512.tfrecords: 100%|██████████| 512/512 [00:21<00:00, 24.17it/s]\n",
      "Processing /tmp/fold0-32-512.tfrecords: 100%|██████████| 512/512 [00:19<00:00, 26.22it/s]\n",
      "Processing /tmp/fold0-33-512.tfrecords: 100%|██████████| 512/512 [00:19<00:00, 25.89it/s]\n",
      "Processing /tmp/fold0-37-512.tfrecords:  12%|█▏        | 59/512 [00:02<00:18, 24.09it/s]]\n",
      "Processing /tmp/fold0-35-512.tfrecords: 100%|██████████| 512/512 [00:22<00:00, 23.07it/s]\n",
      "Processing /tmp/fold0-37-512.tfrecords: 100%|██████████| 512/512 [00:19<00:00, 25.75it/s]\n",
      "Processing /tmp/fold0-36-512.tfrecords: 100%|██████████| 512/512 [00:20<00:00, 24.47it/s]\n",
      "Processing /tmp/fold0-38-512.tfrecords: 100%|██████████| 512/512 [00:22<00:00, 22.96it/s]\n",
      "Processing /tmp/fold0-41-512.tfrecords:  26%|██▋       | 135/512 [00:05<00:14, 26.28it/s]\n",
      "Processing /tmp/fold0-40-512.tfrecords: 100%|██████████| 512/512 [00:20<00:00, 25.35it/s]\n",
      "Processing /tmp/fold0-41-512.tfrecords: 100%|██████████| 512/512 [00:22<00:00, 22.77it/s]\n",
      "Processing /tmp/fold0-42-512.tfrecords: 100%|██████████| 512/512 [00:20<00:00, 24.82it/s]\n",
      "Processing /tmp/fold0-45-512.tfrecords: 100%|██████████| 512/512 [00:19<00:00, 25.81it/s]\n",
      "Processing /tmp/fold1-0-512.tfrecords:   0%|          | 0/512 [00:00<?, ?it/s]\n",
      "Processing /tmp/fold1-1-512.tfrecords:   0%|          | 0/512 [00:00<?, ?it/s]\n",
      "Processing /tmp/fold1-2-512.tfrecords:   0%|          | 0/512 [00:00<?, ?it/s]\n",
      "Processing /tmp/fold1-1-512.tfrecords: 100%|██████████| 512/512 [00:20<00:00, 25.08it/s]\n",
      "Processing /tmp/fold1-2-512.tfrecords:  96%|█████████▌| 490/512 [00:21<00:01, 17.39it/s]\n",
      "Processing /tmp/fold1-3-512.tfrecords: 100%|██████████| 512/512 [00:21<00:00, 23.87it/s]\n",
      "Processing /tmp/fold1-2-512.tfrecords: 100%|██████████| 512/512 [00:22<00:00, 22.92it/s]\n",
      "Processing /tmp/fold1-5-512.tfrecords:  92%|█████████▏| 473/512 [00:19<00:01, 21.09it/s]\n",
      "Processing /tmp/fold1-5-512.tfrecords: 100%|██████████| 512/512 [00:20<00:00, 24.66it/s]\n",
      "Processing /tmp/fold1-6-512.tfrecords: 100%|██████████| 512/512 [00:20<00:00, 24.61it/s]\n",
      "Processing /tmp/fold1-7-512.tfrecords: 100%|██████████| 512/512 [00:20<00:00, 24.92it/s]\n",
      "Processing /tmp/fold1-8-512.tfrecords: 100%|██████████| 512/512 [00:21<00:00, 23.93it/s]]\n",
      "Processing /tmp/fold1-9-512.tfrecords: 100%|██████████| 512/512 [00:20<00:00, 24.61it/s]]\n",
      "Processing /tmp/fold1-11-512.tfrecords: 100%|██████████| 512/512 [00:20<00:00, 24.55it/s]\n",
      "Processing /tmp/fold1-10-512.tfrecords: 100%|██████████| 512/512 [00:21<00:00, 23.62it/s]\n",
      "Processing /tmp/fold1-13-512.tfrecords:  91%|█████████▏| 468/512 [00:18<00:01, 30.76it/s]\n",
      "Processing /tmp/fold1-13-512.tfrecords: 100%|██████████| 512/512 [00:20<00:00, 24.85it/s]\n",
      "Processing /tmp/fold1-15-512.tfrecords:  99%|█████████▊| 505/512 [00:19<00:00, 17.39it/s]\n",
      "Processing /tmp/fold1-15-512.tfrecords: 100%|██████████| 512/512 [00:20<00:00, 25.33it/s]\n",
      "Processing /tmp/fold1-16-512.tfrecords: 100%|██████████| 512/512 [00:20<00:00, 24.90it/s]\n",
      "Processing /tmp/fold1-17-512.tfrecords: 100%|██████████| 512/512 [00:20<00:00, 25.29it/s]\n",
      "Processing /tmp/fold1-20-512.tfrecords:   8%|▊         | 41/512 [00:01<00:20, 23.25it/s]]\n",
      "Processing /tmp/fold1-18-512.tfrecords: 100%|██████████| 512/512 [00:22<00:00, 23.22it/s]\n",
      "Processing /tmp/fold1-23-512.tfrecords:  83%|████████▎ | 423/512 [00:16<00:04, 19.12it/s]\n",
      "Processing /tmp/fold1-22-512.tfrecords: 100%|██████████| 512/512 [00:21<00:00, 24.29it/s]\n",
      "Processing /tmp/fold1-25-512.tfrecords:   3%|▎         | 16/512 [00:00<00:16, 29.69it/s]]\n",
      "Processing /tmp/fold1-23-512.tfrecords: 100%|██████████| 512/512 [00:19<00:00, 25.71it/s]\n",
      "Processing /tmp/fold1-27-512.tfrecords:  84%|████████▍ | 430/512 [00:18<00:03, 25.34it/s]\n",
      "Processing /tmp/fold1-25-512.tfrecords: 100%|██████████| 512/512 [00:20<00:00, 24.66it/s]\n",
      "Processing /tmp/fold1-26-512.tfrecords: 100%|██████████| 512/512 [00:20<00:00, 24.55it/s]\n",
      "Processing /tmp/fold1-27-512.tfrecords: 100%|██████████| 512/512 [00:21<00:00, 23.78it/s]\n",
      "Processing /tmp/fold1-31-512.tfrecords:  82%|████████▏ | 418/512 [00:17<00:04, 23.05it/s]\n",
      "Processing /tmp/fold1-29-512.tfrecords: 100%|██████████| 512/512 [00:19<00:00, 26.33it/s]\n",
      "Processing /tmp/fold1-33-512.tfrecords:  11%|█         | 57/512 [00:02<00:20, 22.57it/s]]\n",
      "Processing /tmp/fold1-31-512.tfrecords: 100%|██████████| 512/512 [00:20<00:00, 24.56it/s]\n",
      "Processing /tmp/fold1-32-512.tfrecords: 100%|██████████| 512/512 [00:20<00:00, 25.02it/s]\n",
      "Processing /tmp/fold1-33-512.tfrecords: 100%|██████████| 512/512 [00:20<00:00, 24.49it/s]\n",
      "Processing /tmp/fold1-35-512.tfrecords: 100%|██████████| 512/512 [00:20<00:00, 24.66it/s]\n",
      "Processing /tmp/fold1-34-512.tfrecords: 100%|██████████| 512/512 [00:21<00:00, 23.49it/s]\n",
      "Processing /tmp/fold1-37-512.tfrecords: 100%|██████████| 512/512 [00:20<00:00, 24.74it/s]\n",
      "Processing /tmp/fold1-36-512.tfrecords: 100%|██████████| 512/512 [00:21<00:00, 23.67it/s]\n",
      "Processing /tmp/fold1-39-512.tfrecords: 100%|██████████| 512/512 [00:20<00:00, 25.10it/s]\n",
      "Processing /tmp/fold1-38-512.tfrecords: 100%|██████████| 512/512 [00:20<00:00, 24.53it/s]\n",
      "Processing /tmp/fold1-40-512.tfrecords: 100%|██████████| 512/512 [00:19<00:00, 25.85it/s]\n",
      "Processing /tmp/fold1-41-512.tfrecords: 100%|██████████| 512/512 [00:20<00:00, 24.44it/s]\n",
      "Processing /tmp/fold1-43-512.tfrecords: 100%|██████████| 512/512 [00:19<00:00, 25.99it/s]\n",
      "Processing /tmp/fold1-45-512.tfrecords: 100%|██████████| 512/512 [00:18<00:00, 27.38it/s]\n",
      "Processing /tmp/fold2-0-512.tfrecords:   0%|          | 0/512 [00:00<?, ?it/s]\n",
      "Processing /tmp/fold2-1-512.tfrecords:   0%|          | 0/512 [00:00<?, ?it/s]\n",
      "Processing /tmp/fold2-2-512.tfrecords:   0%|          | 0/512 [00:00<?, ?it/s]\n",
      "Processing /tmp/fold2-3-512.tfrecords: 100%|██████████| 512/512 [00:19<00:00, 25.76it/s]\n",
      "Processing /tmp/fold2-1-512.tfrecords: 100%|██████████| 512/512 [00:20<00:00, 25.18it/s]\n",
      "Processing /tmp/fold2-2-512.tfrecords: 100%|██████████| 512/512 [00:20<00:00, 24.99it/s]\n",
      "Processing /tmp/fold2-0-512.tfrecords: 100%|██████████| 512/512 [00:20<00:00, 24.66it/s]\n",
      "Processing /tmp/fold2-4-512.tfrecords: 100%|██████████| 512/512 [00:19<00:00, 25.68it/s]\n",
      "Processing /tmp/fold2-7-512.tfrecords:  99%|█████████▉| 506/512 [00:21<00:00, 18.19it/s]\n",
      "Processing /tmp/fold2-9-512.tfrecords:   1%|          | 4/512 [00:00<00:19, 25.99it/s]s]\n",
      "Processing /tmp/fold2-5-512.tfrecords: 100%|██████████| 512/512 [00:22<00:00, 22.96it/s]\n",
      "Processing /tmp/fold2-9-512.tfrecords:  97%|█████████▋| 495/512 [00:18<00:00, 25.54it/s]]\n",
      "Processing /tmp/fold2-9-512.tfrecords: 100%|██████████| 512/512 [00:19<00:00, 26.27it/s]]\n",
      "Processing /tmp/fold2-13-512.tfrecords:   4%|▍         | 23/512 [00:01<00:22, 21.45it/s]]\n",
      "Processing /tmp/fold2-11-512.tfrecords: 100%|██████████| 512/512 [00:20<00:00, 24.97it/s]\n",
      "Processing /tmp/fold2-12-512.tfrecords: 100%|██████████| 512/512 [00:20<00:00, 24.75it/s]\n",
      "Processing /tmp/fold2-13-512.tfrecords: 100%|██████████| 512/512 [00:21<00:00, 23.59it/s]\n",
      "Processing /tmp/fold2-15-512.tfrecords: 100%|█████████▉| 511/512 [00:21<00:00, 20.49it/s]\n",
      "Processing /tmp/fold2-16-512.tfrecords:  14%|█▍        | 72/512 [00:03<00:13, 32.39it/s]]\n",
      "Processing /tmp/fold2-16-512.tfrecords: 100%|██████████| 512/512 [00:21<00:00, 24.19it/s]\n",
      "Processing /tmp/fold2-18-512.tfrecords:  90%|████████▉ | 460/512 [00:18<00:02, 25.41it/s]\n",
      "Processing /tmp/fold2-19-512.tfrecords: 100%|██████████| 512/512 [00:20<00:00, 24.90it/s]\n",
      "Processing /tmp/fold2-22-512.tfrecords:   0%|          | 1/512 [00:00<00:54,  9.35it/s]s]\n",
      "Processing /tmp/fold2-20-512.tfrecords: 100%|██████████| 512/512 [00:21<00:00, 24.32it/s]\n",
      "Processing /tmp/fold2-23-512.tfrecords:  95%|█████████▌| 488/512 [00:20<00:01, 18.87it/s]\n",
      "Processing /tmp/fold2-24-512.tfrecords:  13%|█▎        | 68/512 [00:03<00:21, 21.02it/s]]\n",
      "Processing /tmp/fold2-23-512.tfrecords: 100%|██████████| 512/512 [00:21<00:00, 23.57it/s]\n",
      "Processing /tmp/fold2-26-512.tfrecords:  83%|████████▎ | 427/512 [00:29<00:09,  8.53it/s]\n",
      "Processing /tmp/fold2-25-512.tfrecords: 100%|██████████| 512/512 [00:31<00:00, 16.15it/s]\n",
      "Processing /tmp/fold2-28-512.tfrecords:  13%|█▎        | 68/512 [00:03<00:27, 15.93it/s]]\n",
      "Processing /tmp/fold2-26-512.tfrecords: 100%|██████████| 512/512 [00:33<00:00, 15.19it/s]\n",
      "Processing /tmp/fold2-28-512.tfrecords: 100%|██████████| 512/512 [00:22<00:00, 23.25it/s]\n",
      "Processing /tmp/fold2-29-512.tfrecords: 100%|██████████| 512/512 [00:22<00:00, 22.38it/s]\n",
      "Processing /tmp/fold2-30-512.tfrecords: 100%|██████████| 512/512 [00:21<00:00, 24.03it/s]\n",
      "Processing /tmp/fold2-31-512.tfrecords: 100%|██████████| 512/512 [00:22<00:00, 22.32it/s]\n",
      "Processing /tmp/fold2-32-512.tfrecords: 100%|██████████| 512/512 [00:21<00:00, 23.74it/s]\n",
      "Processing /tmp/fold2-34-512.tfrecords: 100%|██████████| 512/512 [00:20<00:00, 25.51it/s]\n",
      "Processing /tmp/fold2-33-512.tfrecords: 100%|██████████| 512/512 [00:21<00:00, 23.94it/s]\n",
      "Processing /tmp/fold2-35-512.tfrecords: 100%|██████████| 512/512 [00:20<00:00, 25.57it/s]\n",
      "Processing /tmp/fold2-37-512.tfrecords:  94%|█████████▍| 481/512 [00:19<00:01, 21.35it/s]\n",
      "Processing /tmp/fold2-38-512.tfrecords: 100%|██████████| 512/512 [00:19<00:00, 26.16it/s]\n",
      "Processing /tmp/fold2-37-512.tfrecords: 100%|██████████| 512/512 [00:20<00:00, 24.68it/s]\n",
      "Processing /tmp/fold2-39-512.tfrecords: 100%|██████████| 512/512 [00:19<00:00, 25.67it/s]\n",
      "Processing /tmp/fold2-40-512.tfrecords: 100%|██████████| 512/512 [00:20<00:00, 25.02it/s]\n",
      "Processing /tmp/fold2-41-512.tfrecords: 100%|██████████| 512/512 [00:20<00:00, 25.51it/s]\n",
      "Processing /tmp/fold2-42-512.tfrecords: 100%|██████████| 512/512 [00:21<00:00, 23.69it/s]\n",
      "Processing /tmp/fold2-45-512.tfrecords: 100%|██████████| 512/512 [00:18<00:00, 27.18it/s]\n",
      "Processing /tmp/fold3-0-512.tfrecords:   0%|          | 0/512 [00:00<?, ?it/s]\n",
      "Processing /tmp/fold3-1-512.tfrecords:   0%|          | 0/512 [00:00<?, ?it/s]\n",
      "Processing /tmp/fold3-2-512.tfrecords:   0%|          | 0/512 [00:00<?, ?it/s]\n",
      "Processing /tmp/fold3-0-512.tfrecords:  97%|█████████▋| 497/512 [00:19<00:00, 24.42it/s]\n",
      "Processing /tmp/fold3-3-512.tfrecords: 100%|██████████| 512/512 [00:19<00:00, 25.65it/s]\n",
      "Processing /tmp/fold3-4-512.tfrecords:   3%|▎         | 16/512 [00:00<00:15, 31.48it/s]]\n",
      "Processing /tmp/fold3-0-512.tfrecords: 100%|██████████| 512/512 [00:20<00:00, 25.25it/s]\n",
      "Processing /tmp/fold3-4-512.tfrecords: 100%|██████████| 512/512 [00:19<00:00, 26.00it/s]\n",
      "Processing /tmp/fold3-5-512.tfrecords: 100%|██████████| 512/512 [00:19<00:00, 26.11it/s]\n",
      "Processing /tmp/fold3-6-512.tfrecords: 100%|██████████| 512/512 [00:20<00:00, 24.87it/s]\n",
      "Processing /tmp/fold3-7-512.tfrecords: 100%|██████████| 512/512 [00:20<00:00, 24.59it/s]\n",
      "Processing /tmp/fold3-8-512.tfrecords: 100%|██████████| 512/512 [00:20<00:00, 25.18it/s]]\n",
      "Processing /tmp/fold3-10-512.tfrecords:  96%|█████████▌| 490/512 [00:19<00:01, 17.50it/s]\n",
      "Processing /tmp/fold3-13-512.tfrecords:   4%|▍         | 23/512 [00:00<00:18, 26.74it/s]]\n",
      "Processing /tmp/fold3-11-512.tfrecords: 100%|██████████| 512/512 [00:21<00:00, 23.58it/s]\n",
      "Processing /tmp/fold3-12-512.tfrecords: 100%|██████████| 512/512 [00:19<00:00, 25.60it/s]\n",
      "Processing /tmp/fold3-15-512.tfrecords:  91%|█████████ | 465/512 [00:18<00:02, 22.87it/s]\n",
      "Processing /tmp/fold3-13-512.tfrecords: 100%|██████████| 512/512 [00:21<00:00, 24.17it/s]\n",
      "Processing /tmp/fold3-17-512.tfrecords:   6%|▌         | 31/512 [00:01<00:32, 14.91it/s]]\n",
      "Processing /tmp/fold3-16-512.tfrecords: 100%|██████████| 512/512 [00:20<00:00, 24.55it/s]\n",
      "Processing /tmp/fold3-18-512.tfrecords: 100%|██████████| 512/512 [00:20<00:00, 24.47it/s]\n",
      "Processing /tmp/fold3-17-512.tfrecords: 100%|██████████| 512/512 [00:21<00:00, 24.00it/s]\n",
      "Processing /tmp/fold3-19-512.tfrecords: 100%|██████████| 512/512 [00:20<00:00, 25.39it/s]\n",
      "Processing /tmp/fold3-20-512.tfrecords: 100%|██████████| 512/512 [00:19<00:00, 26.22it/s]\n",
      "Processing /tmp/fold3-22-512.tfrecords: 100%|██████████| 512/512 [00:20<00:00, 25.35it/s]\n",
      "Processing /tmp/fold3-23-512.tfrecords:  99%|█████████▉| 509/512 [00:20<00:00, 18.65it/s]\n",
      "Processing /tmp/fold3-23-512.tfrecords: 100%|██████████| 512/512 [00:20<00:00, 24.44it/s]\n",
      "Processing /tmp/fold3-24-512.tfrecords: 100%|██████████| 512/512 [00:21<00:00, 23.53it/s]\n",
      "Processing /tmp/fold3-28-512.tfrecords:  20%|█▉        | 101/512 [00:04<00:14, 28.65it/s]\n",
      "Processing /tmp/fold3-26-512.tfrecords: 100%|██████████| 512/512 [00:22<00:00, 22.88it/s]\n",
      "Processing /tmp/fold3-27-512.tfrecords: 100%|██████████| 512/512 [00:22<00:00, 22.62it/s]\n",
      "Processing /tmp/fold3-28-512.tfrecords: 100%|██████████| 512/512 [00:21<00:00, 23.96it/s]\n",
      "Processing /tmp/fold3-31-512.tfrecords:  92%|█████████▏| 471/512 [00:19<00:01, 27.00it/s]\n",
      "Processing /tmp/fold3-30-512.tfrecords: 100%|██████████| 512/512 [00:20<00:00, 25.33it/s]\n",
      "Processing /tmp/fold3-31-512.tfrecords: 100%|██████████| 512/512 [00:21<00:00, 24.16it/s]\n",
      "Processing /tmp/fold3-33-512.tfrecords:  85%|████████▍ | 433/512 [00:17<00:03, 22.99it/s]\n",
      "Processing /tmp/fold3-34-512.tfrecords: 100%|██████████| 512/512 [00:20<00:00, 25.58it/s]\n",
      "Processing /tmp/fold3-33-512.tfrecords: 100%|██████████| 512/512 [00:20<00:00, 24.85it/s]\n",
      "Processing /tmp/fold3-35-512.tfrecords: 100%|██████████| 512/512 [00:19<00:00, 26.40it/s]\n",
      "Processing /tmp/fold3-37-512.tfrecords:  89%|████████▉ | 455/512 [00:17<00:02, 24.96it/s]\n",
      "Processing /tmp/fold3-38-512.tfrecords: 100%|██████████| 512/512 [00:19<00:00, 25.82it/s]\n",
      "Processing /tmp/fold3-37-512.tfrecords: 100%|██████████| 512/512 [00:20<00:00, 25.51it/s]\n",
      "Processing /tmp/fold3-39-512.tfrecords: 100%|██████████| 512/512 [00:19<00:00, 25.69it/s]\n",
      "Processing /tmp/fold3-40-512.tfrecords: 100%|██████████| 512/512 [00:20<00:00, 24.93it/s]\n",
      "Processing /tmp/fold3-42-512.tfrecords: 100%|██████████| 512/512 [00:19<00:00, 26.33it/s]\n",
      "Processing /tmp/fold3-41-512.tfrecords: 100%|██████████| 512/512 [00:20<00:00, 25.27it/s]\n",
      "Processing /tmp/fold3-45-512.tfrecords: 100%|██████████| 512/512 [00:17<00:00, 28.99it/s]\n",
      "\n",
      "\n",
      "\n"
     ]
    }
   ],
   "source": [
    "# Initialize K-Fold\n",
    "train_folds = train_df.copy()\n",
    "train_folds['fold'] = -1  # Placeholder column for fold assignments\n",
    "\n",
    "kfold = KFold(n_splits=CFG.n_splits, shuffle=True, random_state=CFG.seed) \n",
    "print(f'{CFG.n_splits}-fold training with {len(train_folds)} samples')\n",
    "\n",
    "# Assign folds\n",
    "for fold_idx, (train_idx, valid_idx) in enumerate(kfold.split(train_folds)):\n",
    "    train_folds.loc[valid_idx, 'fold'] = fold_idx\n",
    "    print(f'Fold {fold_idx}: Train {len(train_idx)}, Validation {len(valid_idx)}')\n",
    "\n",
    "# Ensure all folds are assigned\n",
    "assert not (train_folds['fold'] == -1).any(), \"Some rows were not assigned to any fold\"\n",
    "assert len(train_folds['fold'].unique()) == CFG.n_splits, \"Mismatch in the number of folds\"\n",
    "\n",
    "# Process each fold\n",
    "for fold in range(CFG.n_splits):\n",
    "    rows = train_folds[train_folds['fold'] == fold]  # Get rows for the current fold\n",
    "    chunks = split_dataframe(rows, CHUNK_SIZE)  # Split into chunks\n",
    "\n",
    "    # Partition handling\n",
    "    part_size = len(chunks) // N_PART\n",
    "    last = (part + 1) * part_size if part != N_PART - 1 else len(chunks)\n",
    "    chunks = chunks[part * part_size:last]\n",
    "\n",
    "    # Process and save chunks in parallel\n",
    "    N = [len(x) for x in chunks]\n",
    "    _ = Parallel(n_jobs=cpu_count())(\n",
    "        delayed(process_chunk)(x, f\"{CFG.output_base_url}fold{fold}-{i}-{n}.tfrecords\")\n",
    "        for i, (x, n) in enumerate(zip(chunks, N))\n",
    "    )"
   ]
  }
 ],
 "metadata": {
  "kaggle": {
   "accelerator": "none",
   "dataSources": [
    {
     "databundleVersionId": 5087314,
     "sourceId": 46105,
     "sourceType": "competition"
    },
    {
     "datasetId": 2080421,
     "sourceId": 3454569,
     "sourceType": "datasetVersion"
    },
    {
     "datasetId": 2997102,
     "sourceId": 5157854,
     "sourceType": "datasetVersion"
    },
    {
     "datasetId": 2997091,
     "sourceId": 5157864,
     "sourceType": "datasetVersion"
    },
    {
     "datasetId": 2997105,
     "sourceId": 5157870,
     "sourceType": "datasetVersion"
    },
    {
     "datasetId": 2997104,
     "sourceId": 5157878,
     "sourceType": "datasetVersion"
    },
    {
     "datasetId": 2997103,
     "sourceId": 5157887,
     "sourceType": "datasetVersion"
    },
    {
     "datasetId": 2997548,
     "sourceId": 5158870,
     "sourceType": "datasetVersion"
    },
    {
     "datasetId": 3020507,
     "sourceId": 5194802,
     "sourceType": "datasetVersion"
    }
   ],
   "dockerImageVersionId": 30407,
   "isGpuEnabled": false,
   "isInternetEnabled": true,
   "language": "python",
   "sourceType": "notebook"
  },
  "kernelspec": {
   "display_name": "Python 3",
   "language": "python",
   "name": "python3"
  },
  "language_info": {
   "codemirror_mode": {
    "name": "ipython",
    "version": 3
   },
   "file_extension": ".py",
   "mimetype": "text/x-python",
   "name": "python",
   "nbconvert_exporter": "python",
   "pygments_lexer": "ipython3",
   "version": "3.7.12"
  }
 },
 "nbformat": 4,
 "nbformat_minor": 4
}
